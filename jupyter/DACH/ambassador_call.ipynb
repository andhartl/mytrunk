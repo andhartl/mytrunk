{
 "cells": [
  {
   "cell_type": "code",
   "execution_count": null,
   "metadata": {},
   "outputs": [],
   "source": [
    "j.clients.threebot.explorer_addr_set('explorer.testnet.grid.tf')\n",
    "\n",
    "# load the zero-os sal\n",
    "zos = j.sal.zosv2\n",
    "\n",
    "# create a reservation data structure\n",
    "r = zos.reservation_create()\n",
    "\n",
    "execute=\"yes\"\n",
    "\n",
    "# create overlay network definition in datastructure called \"network\"\n",
    "# The overlay network name is unique - can only use it once.\n",
    "\n",
    "network = zos.network.create(r, ip_range=\"172.20.0.0/16\", network_name=\"ambassador_testnet_0\")\n",
    "\n",
    "nodes = zos.nodes_finder.nodes_search(farm_id=1) # (IPv4 nodes, to be used as ingress/egress point.  These are not webgatewaysm, just nodes connected to the internet with IPv4 addresses)\n",
    "# to show what nodes are available in the 4 farms queried for available nodes:\n",
    "\n",
    "nodes_belgium = \n",
    "for i, node in enumerate(nodes_belgium):\n",
    "    if zos.nodes_finder.filter_is_up(node):\n",
    "        iprange = f\"172.20.{i+200}.0/24\"\n",
    "        print(\"Belgium: zos.network.add_node(network, \",node.node_id,\", \",iprange,\"wg_port='6504')\")\n",
    "        zos.network.add_node(network, node.node_id , iprange, wg_port='6504')\n",
    "#    else:\n",
    "#        print(\"Node\", node.node_id,\"is not up\")\n",
    "\n",
    "for i, node in enumerate(nodes_belgium):\n",
    "    if zos.nodes_finder.filter_public_ip4(node):\n",
    "        iprange = f\"172.20.{i+150}.0/24\"\n",
    "        print(\"Belgium: zos.network.add_node(network, \",node.node_id,\", \",iprange,\"wg_port='6504')\")\n",
    "        zos.network.add_node(network, node.node_id , iprange, wg_port='6504')\n",
    "#    else:\n",
    "#        print(\"Node\", node.node_id,\"does not have IPv4\")\n",
    "\n"
   ]
  },
  {
   "cell_type": "markdown",
   "metadata": {},
   "source": [
    "```\n",
    "zos.network.add_node(network,  'A7FmQZ72h7FzjkJMGXmzLDFyfyxzitDZYuernGG97nv7' ,  '172.20.201.0/24', wg_port='6504')\n",
    "zos.network.add_node(network,  'A34YUGenHKyhjDMAUKZe4cVDtJM2wQ4n4XRkfGUUEYdy' ,  '172.20.202.0/24', wg_port='6504')\n",
    "zos.network.add_node(network,  '3BwDVNRigau8Zk6BQkJt5PLxrHQnJ5NTfNvAtuubC1eS' ,  '172.20.204.0/24', wg_port='6504')\n",
    "zos.network.add_node(network,  'D1sY7tgHX6fVvjrpCotr4SmezVyRShLTufqhEpBQxK1v' ,  '172.20.206.0/24', wg_port='6504')\n",
    "zos.network.add_node(network,  '3dAnxcykEDgKVQdTRKmktggL2MZbm3CPSdS9Tdoy4HAF' ,  '172.20.207.0/24', wg_port='6504')\n",
    "zos.network.add_node(network,  '6m9gFPTYLRiCH7FD8yU5VWwXZdfegKUvXZgrJoS1EJfQ' ,  '172.20.208.0/24', wg_port='6504')\n",
    "zos.network.add_node(network,  '2fi9ZZiBGW4G9pnrN656bMfW6x55RSoHDeMrd9pgSA8T' ,  '172.20.209.0/24', wg_port='6504')\n",
    "zos.network.add_node(network,  '2m3nHPSAMyZFSeg5HPozic2NGBMtrXrBkhtNcVmd5Ss6' ,  '172.20.210.0/24', wg_port='6504')\n",
    "zos.network.add_node(network,  '72CP8QPhMSpF7MbSvNR1TYZFbTnbRiuyvq5xwcoRNAib' ,  '172.20.155.0/24', wg_port='6504')\n",
    "```\n"
   ]
  },
  {
   "cell_type": "code",
   "execution_count": null,
   "metadata": {},
   "outputs": [],
   "source": [
    "wg_config = zos.network.add_access(network, '72CP8QPhMSpF7MbSvNR1TYZFbTnbRiuyvq5xwcoRNAib', '172.20.100.0/24', ipv4=True)\n"
   ]
  },
  {
   "cell_type": "markdown",
   "metadata": {},
   "source": [
    "```\n",
    "[Interface]\n",
    "Address = 100.64.20.100/32\n",
    "PrivateKey = JLSS0iYwDroy5enBhRQZQDHJTpqY01X72Ot8TsR84cg=\n",
    "[Peer]\n",
    "PublicKey = rW6rCtXm6UBMPw/67WcfTlqRznOxiOvrBIoh0gWPfnY=\n",
    "AllowedIPs = 172.20.0.0/16, 100.64.20.0/32\n",
    "PersistentKeepalive = 25\n",
    "Endpoint = 185.69.166.60:6503\n",
    "```"
   ]
  },
  {
   "cell_type": "code",
   "execution_count": null,
   "metadata": {},
   "outputs": [],
   "source": [
    "# Make a reservation for the network for a week.\n",
    "\n",
    "expiration = j.data.time.epoch + (24*60*60)\n",
    "# register the reservation\n",
    "rid = zos.reservation_register(r, expiration)\n",
    "time.sleep(5)\n",
    "# inspect the result of the reservation provisioning\n",
    "result = zos.reservation_result(rid)\n",
    "\n",
    "for i in 201 202 204 206 207 208 209 210 155; do ping -c 1 172.20.$i.1; done"
   ]
  },
  {
   "cell_type": "markdown",
   "metadata": {},
   "source": [
    "We should now have a virtual overlay network that will exist for a week."
   ]
  },
  {
   "cell_type": "code",
   "execution_count": null,
   "metadata": {},
   "outputs": [],
   "source": [
    "Random to be placed commands\n",
    "- https://explorer.testnet.grid.tf/explorer/users"
   ]
  },
  {
   "cell_type": "code",
   "execution_count": null,
   "metadata": {},
   "outputs": [],
   "source": [
    "# Create new / empty existing reservation method\n",
    "r = zos.reservation_create()\n",
    "\n",
    "# Add data to method to what to deploy.  Example is code server\n",
    "zos.container.create(reservation=r,\n",
    "                    node_id='A7FmQZ72h7FzjkJMGXmzLDFyfyxzitDZYuernGG97nv7', # one of the node_id that is part of the network\n",
    "                    network_name='ambassador_testnet_0', # this assume this network is already provisioned on the node\n",
    "                    ip_address='172.20.201.20', # part of ip_range you reserved for your network xxx.xxx.1.10\n",
    "                    flist='https://hub.grid.tf/weynandkuijpers.3bot/codercom-code-server-latest.flist', # flist of the container you want to install\n",
    "                    interactive=True,         # True only if corex_connect required, default false\n",
    "                  # env={},                   # field for parameters like config \n",
    "                    entrypoint='/sbin/my_init')\n",
    "\n",
    "expiration = j.data.time.epoch + (5*60*60)\n",
    "# register the reservation\n",
    "rid = zos.reservation_register(r, expiration)\n",
    "time.sleep(5)\n",
    "# inspect the result of the reservation provisioning\n",
    "result = zos.reservation_result(rid)"
   ]
  },
  {
   "cell_type": "markdown",
   "metadata": {},
   "source": [
    "### Deploy S3 interface"
   ]
  },
  {
   "cell_type": "code",
   "execution_count": null,
   "metadata": {},
   "outputs": [],
   "source": [
    "# ----------------------------------------------------------------------------------\n",
    "# Point to the testnet explorere and load the ZOS system abstraction layer (SAL)\n",
    "# ----------------------------------------------------------------------------------\n",
    "j.clients.threebot.explorer_addr_set('explorer.testnet.grid.tf')\n",
    "\n",
    "# load the zero-os sal\n",
    "zos = j.sal.zosv2\n",
    "\n",
    "# ----------------------------------------------------------------------------------\n",
    "# Find nodes in a Farm to deploy ZDB's on.\n",
    "# ----------------------------------------------------------------------------------\n",
    "r = zos.reservation_create()\n",
    "\n",
    "# first find the node where to reserve 0-db namespaces.  Select all the salzburg nodes\n",
    "nodes = zos.nodes_finder.nodes_search(farm_id=1) \n",
    "\n",
    "# nodes = zos.nodes_finder.nodes_search(sru=10)\n",
    "nodes = list(filter(zos.nodes_finder.filter_is_up,nodes))\n",
    "nodes = nodes[:2]\n",
    "        \n",
    "for i, node in enumerate(nodes):\n",
    "    if zos.nodes_finder.filter_is_up(node):\n",
    "        print(node.node_id)\n",
    "   \n",
    "# ----------------------------------------------------------------------------------\n",
    "# create a reservation for ZDB's - the low level disk interfaces\n",
    "# ----------------------------------------------------------------------------------\n",
    "r = zos.reservation_create()\n",
    "# reservation some 0-db namespaces\n",
    "for node in nodes:\n",
    "    zos.zdb.create(\n",
    "        reservation=r,\n",
    "        node_id=node.node_id,\n",
    "        size=10,\n",
    "        mode='seq',\n",
    "        password='supersecret',\n",
    "        disk_type=\"SSD\",\n",
    "        public=False)\n",
    "\n",
    "# ----------------------------------------------------------------------------------\n",
    "# Write reservation for ZDB's in BCDB - the low level disk interfaces\n",
    "# ----------------------------------------------------------------------------------   \n",
    "rid = zos.reservation_register(r, j.data.time.epoch+(10*60))\n",
    "results = zos.reservation_result(rid)\n",
    "\n",
    "while len(results) < len(nodes):\n",
    "    time.sleep(2)\n",
    "    results = zos.reservation_result(rid)\n",
    "\n",
    "# ----------------------------------------------------------------------------------\n",
    "# read the IP address of the 0-db namespaces after they are deployed\n",
    "# we will need these IPs when creating the minio container\n",
    "# As we are inside the 3bot - we can pass the access passwords in plain text.\n",
    "# ----------------------------------------------------------------------------------\n",
    "namespace_config = []\n",
    "for result in results:\n",
    "    cfg = f\"{result.data_json['Namespace']}:supersecret@[{result.data_json['IP']}]:{result.data_json['Port']}\"\n",
    "    namespace_config.append(cfg)\n",
    "\n",
    "    \n",
    "# ----------------------------------------------------------------------------------\n",
    "# With the low level disk managers done and the IP adresses discovered we can now build\n",
    "# the reservation for the min.io S3 interface.\n",
    "# ----------------------------------------------------------------------------------\n",
    "r = zos.reservation_create()\n",
    "\n",
    "zos.container.create(reservation=r,\n",
    "    node_id=\"A7FmQZ72h7FzjkJMGXmzLDFyfyxzitDZYuernGG97nv7\",\n",
    "    network_name='ambassador_testnet_0',\n",
    "    ip_address='172.20.201.16',\n",
    "    flist='https://hub.grid.tf/azmy.3bot/minio.flist',\n",
    "    interactive=False, \n",
    "    entrypoint='/bin/entrypoint',\n",
    "    cpu=2,\n",
    "    memory=2048,\n",
    "    env={\n",
    "        \"SHARDS\":','.join(namespace_config),\n",
    "        \"DATA\":\"1\",\n",
    "        \"PARITY\":\"1\",\n",
    "        \"ACCESS_KEY\":\"minio\",\n",
    "        \"SECRET_KEY\":\"passwordpassword\",\n",
    "        })\n",
    "\n",
    "# ----------------------------------------------------------------------------------\n",
    "# Write reservation for min.io container in BCDB - end user interface\n",
    "# ----------------------------------------------------------------------------------      \n",
    "rid = zos.reservation_register(r, j.data.time.epoch+(10*60))\n",
    "results = zos.reservation_result(rid)\n",
    "# ----------------------------------------------------------------------------------"
   ]
  },
  {
   "cell_type": "code",
   "execution_count": null,
   "metadata": {},
   "outputs": [],
   "source": [
    "http://172.20.201.16:7681/\n",
    "http://172.20.201.16:7681/api/process/start?arg[]=/bin/sh"
   ]
  }
 ],
 "metadata": {
  "kernelspec": {
   "display_name": "Python 3",
   "language": "python",
   "name": "python3"
  },
  "language_info": {
   "codemirror_mode": {
    "name": "ipython",
    "version": 3
   },
   "file_extension": ".py",
   "mimetype": "text/x-python",
   "name": "python",
   "nbconvert_exporter": "python",
   "pygments_lexer": "ipython3",
   "version": "3.7.7"
  }
 },
 "nbformat": 4,
 "nbformat_minor": 4
}
